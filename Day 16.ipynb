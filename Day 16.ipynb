{
 "metadata": {
  "language_info": {
   "codemirror_mode": {
    "name": "ipython",
    "version": 3
   },
   "file_extension": ".py",
   "mimetype": "text/x-python",
   "name": "python",
   "nbconvert_exporter": "python",
   "pygments_lexer": "ipython3",
   "version": "3.8.0-final"
  },
  "orig_nbformat": 2,
  "kernelspec": {
   "name": "python38064bit665b2bd93f9f4bf5803e41412cf7f5e1",
   "display_name": "Python 3.8.0 64-bit",
   "language": "python"
  }
 },
 "nbformat": 4,
 "nbformat_minor": 2,
 "cells": [
  {
   "cell_type": "code",
   "execution_count": 3,
   "metadata": {},
   "outputs": [],
   "source": [
    "test_input = '''class: 1-3 or 5-7\n",
    "row: 6-11 or 33-44\n",
    "seat: 13-40 or 45-50\n",
    "\n",
    "your ticket:\n",
    "7,1,14\n",
    "\n",
    "nearby tickets:\n",
    "7,3,47\n",
    "40,4,50\n",
    "55,2,20\n",
    "38,6,12'''.split('\\n\\n')"
   ]
  },
  {
   "cell_type": "code",
   "execution_count": 67,
   "metadata": {},
   "outputs": [],
   "source": [
    "test_input_2 = '''class: 0-1 or 4-19\n",
    "row: 0-5 or 8-19\n",
    "seat: 0-13 or 16-19\n",
    "\n",
    "your ticket:\n",
    "11,12,13\n",
    "\n",
    "nearby tickets:\n",
    "3,9,18\n",
    "15,1,5\n",
    "5,14,9\n",
    "'''.split('\\n\\n')"
   ]
  },
  {
   "cell_type": "code",
   "execution_count": 4,
   "metadata": {},
   "outputs": [
    {
     "output_type": "execute_result",
     "data": {
      "text/plain": [
       "['class: 1-3 or 5-7\\nrow: 6-11 or 33-44\\nseat: 13-40 or 45-50',\n",
       " 'your ticket:\\n7,1,14',\n",
       " 'nearby tickets:\\n7,3,47\\n40,4,50\\n55,2,20\\n38,6,12']"
      ]
     },
     "metadata": {},
     "execution_count": 4
    }
   ],
   "source": [
    "test_input"
   ]
  },
  {
   "cell_type": "code",
   "execution_count": 57,
   "metadata": {},
   "outputs": [],
   "source": [
    "def prep_input(raw_input):\n",
    "    items, mine, others = raw_input\n",
    "    intervals = {}\n",
    "    for item_type in items.split('\\n'):\n",
    "        name = item_type.split(':')[0]\n",
    "        first_interv = item_type.split(' ')[-3]\n",
    "        deb1, fin1 = first_interv.split('-')\n",
    "        second_interv = item_type.split(' ')[-1]\n",
    "        deb2, fin2 = second_interv.split('-')\n",
    "        intervals[name] = (int(deb1), int(fin1), int(deb2), int(fin2))\n",
    "        #print(f'{name}: {intervals[name]}')\n",
    "\n",
    "    my_ticket = mine.split('\\n')[1]\n",
    "    my_ticket = [int(n) for n in my_ticket.split(',')]\n",
    "    #print(f'my ticket: {my_ticket}')\n",
    "\n",
    "    other_tickets = []\n",
    "    split_others = filter(None, others.split('\\n')[1:])\n",
    "    for other in split_others:\n",
    "        other_tickets.append([int(n) for n in other.split(',')])\n",
    "\n",
    "    #print(f'other tickets: {other_tickets}')\n",
    "    return intervals, my_ticket, other_tickets"
   ]
  },
  {
   "cell_type": "code",
   "execution_count": 68,
   "metadata": {},
   "outputs": [
    {
     "output_type": "execute_result",
     "data": {
      "text/plain": [
       "({'class': (0, 1, 4, 19), 'row': (0, 5, 8, 19), 'seat': (0, 13, 16, 19)},\n",
       " [11, 12, 13],\n",
       " [[3, 9, 18], [15, 1, 5], [5, 14, 9]])"
      ]
     },
     "metadata": {},
     "execution_count": 68
    }
   ],
   "source": [
    "prep_input(test_input_2)"
   ]
  },
  {
   "cell_type": "code",
   "execution_count": 142,
   "metadata": {},
   "outputs": [],
   "source": [
    "def nb_invalid(intervals, my_ticket, other_tickets):\n",
    "    total_invalid = 0\n",
    "    valid_tickets = []\n",
    "\n",
    "    for ticket in other_tickets:\n",
    "        valid_ticket = True\n",
    "        for field in ticket:\n",
    "            valid_field = False\n",
    "\n",
    "            for poss_source in intervals.values():\n",
    "                deb1, fin1, deb2, fin2 = poss_source\n",
    "                if (deb1 <= field and field <= fin1) or (deb2 <= field and field <= fin2):\n",
    "                    valid_field = True\n",
    "\n",
    "            if not valid_field:\n",
    "                valid_ticket = False\n",
    "                total_invalid += field\n",
    "\n",
    "        if valid_ticket:\n",
    "            valid_tickets.append(ticket)\n",
    "\n",
    "    # For each field, find all the positions that it could go (see if there's a lot)\n",
    "    valid_indices = {field: [] for field in intervals}\n",
    "    for field_name, bounds in intervals.items():\n",
    "        deb1, fin1, deb2, fin2 = bounds\n",
    "        #print(f'{field_name}: {bounds}') \n",
    "        for possible_index in range(len(my_ticket)):\n",
    "            index_works = True\n",
    "            for ticket in valid_tickets:\n",
    "                val = ticket[possible_index]\n",
    "                if not ((deb1 <= val and val <= fin1) or (deb2 <= val and val <= fin2)):\n",
    "                    index_works = False\n",
    "                    #print(f'  ticket {ticket} makes index {possible_index} fail:')\n",
    "                    #print(f'    {val} is not in [{deb1}, {fin1}] or [{deb2}, {fin2}]')\n",
    "                    break\n",
    "            if index_works:\n",
    "                valid_indices[field_name].append(possible_index)\n",
    "        #print(f'{field_name} valid indices: {valid_indices[field_name]}\\n')\n",
    "\n",
    "    #print(valid_indices)\n",
    "\n",
    "    found = {field: False for field in intervals}\n",
    "    while sum(found.values()) < len(intervals):\n",
    "        for field in intervals:\n",
    "            if (len(valid_indices[field]) == 1) and (not found[field]):\n",
    "                found[field] = True\n",
    "                field_pos = valid_indices[field][0]\n",
    "                for other_field in intervals:\n",
    "                    if other_field != field and field_pos in valid_indices[other_field]:\n",
    "                        valid_indices[other_field].remove(field_pos)\n",
    "                #print(valid_indices)\n",
    "    \n",
    "    print(valid_indices)\n",
    "\n",
    "    return valid_indices, my_ticket"
   ]
  },
  {
   "cell_type": "code",
   "execution_count": 143,
   "metadata": {
    "tags": []
   },
   "outputs": [
    {
     "output_type": "stream",
     "name": "stdout",
     "text": [
      "{'class': [1], 'row': [0], 'seat': [2]}\n"
     ]
    },
    {
     "output_type": "execute_result",
     "data": {
      "text/plain": [
       "({'class': [1], 'row': [0], 'seat': [2]}, [11, 12, 13])"
      ]
     },
     "metadata": {},
     "execution_count": 143
    }
   ],
   "source": [
    "nb_invalid(*prep_input(test_input_2))"
   ]
  },
  {
   "cell_type": "code",
   "execution_count": 124,
   "metadata": {},
   "outputs": [],
   "source": [
    "with open('input_day16.txt', 'r') as data_file:\n",
    "    full_input = data_file.read().split('\\n\\n')"
   ]
  },
  {
   "cell_type": "code",
   "execution_count": 144,
   "metadata": {
    "tags": []
   },
   "outputs": [
    {
     "output_type": "stream",
     "name": "stdout",
     "text": [
      "{'departure location': [5], 'departure station': [2], 'departure platform': [15], 'departure track': [1], 'departure date': [19], 'departure time': [11], 'arrival location': [13], 'arrival station': [17], 'arrival platform': [3], 'arrival track': [8], 'class': [6], 'duration': [0], 'price': [10], 'route': [9], 'row': [12], 'seat': [18], 'train': [7], 'type': [16], 'wagon': [14], 'zone': [4]}\n"
     ]
    }
   ],
   "source": [
    "final_rows, my_ticket = nb_invalid(*prep_input(full_input))"
   ]
  },
  {
   "cell_type": "code",
   "execution_count": 153,
   "metadata": {},
   "outputs": [],
   "source": [
    "def final_result(rows, ticket):\n",
    "    product = 1\n",
    "    print(ticket)\n",
    "    for field, row in rows.items():\n",
    "        if field.startswith('departure'):\n",
    "            product *= ticket[row[0]]\n",
    "    return product"
   ]
  },
  {
   "cell_type": "code",
   "execution_count": 154,
   "metadata": {},
   "outputs": [
    {
     "output_type": "stream",
     "name": "stdout",
     "text": [
      "{'departure location': [5], 'departure station': [2], 'departure platform': [15], 'departure track': [1], 'departure date': [19], 'departure time': [11], 'arrival location': [13], 'arrival station': [17], 'arrival platform': [3], 'arrival track': [8], 'class': [6], 'duration': [0], 'price': [10], 'route': [9], 'row': [12], 'seat': [18], 'train': [7], 'type': [16], 'wagon': [14], 'zone': [4]}\n[191, 89, 73, 139, 71, 103, 109, 53, 97, 179, 59, 67, 79, 101, 113, 157, 61, 107, 181, 137]\n"
     ]
    },
    {
     "output_type": "execute_result",
     "data": {
      "text/plain": [
       "964373157673"
      ]
     },
     "metadata": {},
     "execution_count": 154
    }
   ],
   "source": [
    "final_result(*nb_invalid(*prep_input(full_input)))"
   ]
  },
  {
   "cell_type": "code",
   "execution_count": 130,
   "metadata": {},
   "outputs": [
    {
     "output_type": "execute_result",
     "data": {
      "text/plain": [
       "{'departure location': [5],\n",
       " 'departure station': [2],\n",
       " 'departure platform': [15],\n",
       " 'departure track': [1],\n",
       " 'departure date': [19],\n",
       " 'departure time': [11],\n",
       " 'arrival location': [13],\n",
       " 'arrival station': [17],\n",
       " 'arrival platform': [3],\n",
       " 'arrival track': [8],\n",
       " 'class': [6],\n",
       " 'duration': [0],\n",
       " 'price': [10],\n",
       " 'route': [9],\n",
       " 'row': [12],\n",
       " 'seat': [18],\n",
       " 'train': [7],\n",
       " 'type': [16],\n",
       " 'wagon': [14],\n",
       " 'zone': [4]}"
      ]
     },
     "metadata": {},
     "execution_count": 130
    }
   ],
   "source": [
    "final_rows"
   ]
  },
  {
   "cell_type": "code",
   "execution_count": null,
   "metadata": {},
   "outputs": [],
   "source": []
  }
 ]
}