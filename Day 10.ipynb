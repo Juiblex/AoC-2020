{
 "metadata": {
  "language_info": {
   "codemirror_mode": {
    "name": "ipython",
    "version": 3
   },
   "file_extension": ".py",
   "mimetype": "text/x-python",
   "name": "python",
   "nbconvert_exporter": "python",
   "pygments_lexer": "ipython3",
   "version": "3.8.0-final"
  },
  "orig_nbformat": 2,
  "kernelspec": {
   "name": "python38064bit665b2bd93f9f4bf5803e41412cf7f5e1",
   "display_name": "Python 3.8.0 64-bit",
   "language": "python"
  }
 },
 "nbformat": 4,
 "nbformat_minor": 2,
 "cells": [
  {
   "cell_type": "code",
   "execution_count": 103,
   "metadata": {},
   "outputs": [],
   "source": [
    "test_input = \"\"\"28\n",
    "33\n",
    "18\n",
    "42\n",
    "31\n",
    "14\n",
    "46\n",
    "20\n",
    "48\n",
    "47\n",
    "24\n",
    "23\n",
    "49\n",
    "45\n",
    "19\n",
    "38\n",
    "39\n",
    "11\n",
    "1\n",
    "32\n",
    "25\n",
    "35\n",
    "8\n",
    "17\n",
    "7\n",
    "9\n",
    "4\n",
    "2\n",
    "34\n",
    "10\n",
    "3\"\"\".split('\\n')"
   ]
  },
  {
   "cell_type": "code",
   "execution_count": 104,
   "metadata": {},
   "outputs": [],
   "source": [
    "test_input = [int(i) for i in test_input]\n",
    "test_input = sorted(test_input + [0, max(test_input) + 3])"
   ]
  },
  {
   "cell_type": "code",
   "execution_count": 105,
   "metadata": {},
   "outputs": [
    {
     "output_type": "execute_result",
     "data": {
      "text/plain": [
       "[0,\n",
       " 1,\n",
       " 2,\n",
       " 3,\n",
       " 4,\n",
       " 7,\n",
       " 8,\n",
       " 9,\n",
       " 10,\n",
       " 11,\n",
       " 14,\n",
       " 17,\n",
       " 18,\n",
       " 19,\n",
       " 20,\n",
       " 23,\n",
       " 24,\n",
       " 25,\n",
       " 28,\n",
       " 31,\n",
       " 32,\n",
       " 33,\n",
       " 34,\n",
       " 35,\n",
       " 38,\n",
       " 39,\n",
       " 42,\n",
       " 45,\n",
       " 46,\n",
       " 47,\n",
       " 48,\n",
       " 49,\n",
       " 52]"
      ]
     },
     "metadata": {},
     "execution_count": 105
    }
   ],
   "source": [
    "test_input"
   ]
  },
  {
   "cell_type": "code",
   "execution_count": 66,
   "metadata": {},
   "outputs": [],
   "source": [
    "def truc(input):\n",
    "    total = {1: 0, 2: 0, 3:0}\n",
    "    for i in range(len(input)-1):\n",
    "        total[input[i+1]-input[i]] += 1\n",
    "    total[input[1]] += 1 # premier\n",
    "    total[3] += 1 # dernier\n",
    "    return total[1] * total[3]"
   ]
  },
  {
   "cell_type": "code",
   "execution_count": 67,
   "metadata": {},
   "outputs": [
    {
     "output_type": "execute_result",
     "data": {
      "text/plain": [
       "48"
      ]
     },
     "metadata": {},
     "execution_count": 67
    }
   ],
   "source": [
    "truc(test_input)"
   ]
  },
  {
   "cell_type": "code",
   "execution_count": 68,
   "metadata": {},
   "outputs": [],
   "source": [
    "with open(\"input_day10.txt\", \"r\") as input_file:\n",
    "    data = [int(i) for i in input_file.readlines()]\n",
    "    data = sorted(data + [0, max(data) + 3])"
   ]
  },
  {
   "cell_type": "code",
   "execution_count": 69,
   "metadata": {},
   "outputs": [
    {
     "output_type": "execute_result",
     "data": {
      "text/plain": [
       "1716"
      ]
     },
     "metadata": {},
     "execution_count": 69
    }
   ],
   "source": [
    "truc(data)"
   ]
  },
  {
   "cell_type": "code",
   "execution_count": 63,
   "metadata": {},
   "outputs": [],
   "source": [
    "#data"
   ]
  },
  {
   "cell_type": "code",
   "execution_count": 108,
   "metadata": {},
   "outputs": [],
   "source": [
    "def nb_ways(input):\n",
    "    res = {}\n",
    "    for elem1 in range(len(input)):\n",
    "        res[elem1] = {}\n",
    "        for elem2 in range(len(input)):\n",
    "            res[elem1][elem2] = -1\n",
    "    \n",
    "    def rec_visit(elem, last_elem):\n",
    "        print(f\"elem: {elem}, last_elem: {last_elem}\")\n",
    "        if elem == len(input) - 1:\n",
    "            if input[elem] - input[last_elem] <= 3:\n",
    "                return 1\n",
    "            else:\n",
    "                return 0\n",
    "        if res[elem][last_elem] != -1:\n",
    "            return res[elem][last_elem]\n",
    "        if input[elem] - input[last_elem] > 3:\n",
    "            return 0\n",
    "        res[elem][last_elem] = rec_visit(elem + 1, last_elem) + rec_visit(elem + 1, elem)\n",
    "        return res[elem][last_elem]\n",
    "\n",
    "    def bourrin(i, elems):\n",
    "        if len(elems) > 1:\n",
    "            if elems[-1] - elems[-2] > 3 or elems[0] != 0:\n",
    "                return 0\n",
    "            if elems[-1] == input[-1]:\n",
    "                #print(elems)\n",
    "                return 1\n",
    "        if i == len(input):\n",
    "            return 0\n",
    "        else:\n",
    "            return bourrin(i+1, elems + [input[i]]) + bourrin(i+1, elems)\n",
    "\n",
    "    return rec_visit(0, 0)\n"
   ]
  },
  {
   "cell_type": "code",
   "execution_count": 114,
   "metadata": {
    "tags": []
   },
   "outputs": [
    {
     "output_type": "stream",
     "name": "stdout",
     "text": [
      "elem: 0, last_elem: 0\nelem: 1, last_elem: 0\nelem: 2, last_elem: 0\nelem: 3, last_elem: 0\nelem: 4, last_elem: 0\nelem: 4, last_elem: 3\nelem: 5, last_elem: 3\nelem: 5, last_elem: 4\nelem: 6, last_elem: 4\nelem: 6, last_elem: 5\nelem: 7, last_elem: 5\nelem: 7, last_elem: 6\nelem: 8, last_elem: 6\nelem: 8, last_elem: 7\nelem: 9, last_elem: 7\nelem: 10, last_elem: 7\nelem: 11, last_elem: 7\nelem: 11, last_elem: 10\nelem: 12, last_elem: 10\nelem: 12, last_elem: 11\nelem: 13, last_elem: 11\nelem: 13, last_elem: 12\nelem: 14, last_elem: 12\nelem: 15, last_elem: 12\nelem: 15, last_elem: 14\nelem: 16, last_elem: 14\nelem: 16, last_elem: 15\nelem: 17, last_elem: 15\nelem: 17, last_elem: 16\nelem: 18, last_elem: 16\nelem: 18, last_elem: 17\nelem: 19, last_elem: 17\nelem: 20, last_elem: 17\nelem: 21, last_elem: 17\nelem: 21, last_elem: 20\nelem: 22, last_elem: 20\nelem: 22, last_elem: 21\nelem: 23, last_elem: 21\nelem: 23, last_elem: 22\nelem: 24, last_elem: 22\nelem: 24, last_elem: 23\nelem: 25, last_elem: 23\nelem: 26, last_elem: 23\nelem: 27, last_elem: 23\nelem: 27, last_elem: 26\nelem: 28, last_elem: 26\nelem: 28, last_elem: 27\nelem: 29, last_elem: 27\nelem: 29, last_elem: 28\nelem: 30, last_elem: 28\nelem: 31, last_elem: 28\nelem: 32, last_elem: 28\nelem: 32, last_elem: 31\nelem: 33, last_elem: 31\nelem: 33, last_elem: 32\nelem: 34, last_elem: 32\nelem: 34, last_elem: 33\nelem: 35, last_elem: 33\nelem: 35, last_elem: 34\nelem: 36, last_elem: 34\nelem: 37, last_elem: 34\nelem: 37, last_elem: 36\nelem: 38, last_elem: 36\nelem: 38, last_elem: 37\nelem: 39, last_elem: 37\nelem: 40, last_elem: 37\nelem: 41, last_elem: 37\nelem: 41, last_elem: 40\nelem: 42, last_elem: 40\nelem: 42, last_elem: 41\nelem: 43, last_elem: 41\nelem: 43, last_elem: 42\nelem: 44, last_elem: 42\nelem: 45, last_elem: 42\nelem: 46, last_elem: 42\nelem: 46, last_elem: 45\nelem: 47, last_elem: 45\nelem: 47, last_elem: 46\nelem: 48, last_elem: 46\nelem: 48, last_elem: 47\nelem: 49, last_elem: 47\nelem: 50, last_elem: 47\nelem: 51, last_elem: 47\nelem: 51, last_elem: 50\nelem: 52, last_elem: 50\nelem: 52, last_elem: 51\nelem: 53, last_elem: 51\nelem: 53, last_elem: 52\nelem: 54, last_elem: 52\nelem: 55, last_elem: 52\nelem: 56, last_elem: 52\nelem: 56, last_elem: 55\nelem: 57, last_elem: 55\nelem: 57, last_elem: 56\nelem: 58, last_elem: 56\nelem: 58, last_elem: 57\nelem: 59, last_elem: 57\nelem: 60, last_elem: 57\nelem: 61, last_elem: 57\nelem: 61, last_elem: 60\nelem: 62, last_elem: 60\nelem: 62, last_elem: 61\nelem: 63, last_elem: 61\nelem: 63, last_elem: 62\nelem: 64, last_elem: 62\nelem: 65, last_elem: 62\nelem: 66, last_elem: 62\nelem: 66, last_elem: 65\nelem: 67, last_elem: 65\nelem: 67, last_elem: 66\nelem: 68, last_elem: 66\nelem: 68, last_elem: 67\nelem: 69, last_elem: 67\nelem: 69, last_elem: 68\nelem: 70, last_elem: 68\nelem: 70, last_elem: 69\nelem: 71, last_elem: 69\nelem: 71, last_elem: 70\nelem: 72, last_elem: 70\nelem: 73, last_elem: 70\nelem: 74, last_elem: 70\nelem: 74, last_elem: 73\nelem: 75, last_elem: 73\nelem: 75, last_elem: 74\nelem: 76, last_elem: 74\nelem: 76, last_elem: 75\nelem: 77, last_elem: 75\nelem: 77, last_elem: 76\nelem: 78, last_elem: 76\nelem: 79, last_elem: 76\nelem: 80, last_elem: 76\nelem: 80, last_elem: 79\nelem: 81, last_elem: 79\nelem: 81, last_elem: 80\nelem: 82, last_elem: 80\nelem: 83, last_elem: 80\nelem: 83, last_elem: 82\nelem: 84, last_elem: 82\nelem: 84, last_elem: 83\nelem: 85, last_elem: 83\nelem: 86, last_elem: 83\nelem: 87, last_elem: 83\nelem: 87, last_elem: 86\nelem: 88, last_elem: 86\nelem: 88, last_elem: 87\nelem: 89, last_elem: 87\nelem: 89, last_elem: 88\nelem: 90, last_elem: 88\nelem: 90, last_elem: 89\nelem: 86, last_elem: 85\nelem: 87, last_elem: 85\nelem: 88, last_elem: 85\nelem: 88, last_elem: 87\nelem: 87, last_elem: 86\nelem: 85, last_elem: 84\nelem: 86, last_elem: 84\nelem: 87, last_elem: 84\nelem: 88, last_elem: 84\nelem: 88, last_elem: 87\nelem: 87, last_elem: 86\nelem: 86, last_elem: 85\nelem: 82, last_elem: 81\nelem: 83, last_elem: 81\nelem: 83, last_elem: 82\nelem: 79, last_elem: 78\nelem: 80, last_elem: 78\nelem: 80, last_elem: 79\nelem: 78, last_elem: 77\nelem: 79, last_elem: 77\nelem: 80, last_elem: 77\nelem: 80, last_elem: 79\nelem: 79, last_elem: 78\nelem: 73, last_elem: 72\nelem: 74, last_elem: 72\nelem: 75, last_elem: 72\nelem: 75, last_elem: 74\nelem: 74, last_elem: 73\nelem: 72, last_elem: 71\nelem: 73, last_elem: 71\nelem: 74, last_elem: 71\nelem: 75, last_elem: 71\nelem: 75, last_elem: 74\nelem: 74, last_elem: 73\nelem: 73, last_elem: 72\nelem: 65, last_elem: 64\nelem: 66, last_elem: 64\nelem: 67, last_elem: 64\nelem: 67, last_elem: 66\nelem: 66, last_elem: 65\nelem: 64, last_elem: 63\nelem: 65, last_elem: 63\nelem: 66, last_elem: 63\nelem: 67, last_elem: 63\nelem: 67, last_elem: 66\nelem: 66, last_elem: 65\nelem: 65, last_elem: 64\nelem: 60, last_elem: 59\nelem: 61, last_elem: 59\nelem: 62, last_elem: 59\nelem: 62, last_elem: 61\nelem: 61, last_elem: 60\nelem: 59, last_elem: 58\nelem: 60, last_elem: 58\nelem: 61, last_elem: 58\nelem: 62, last_elem: 58\nelem: 62, last_elem: 61\nelem: 61, last_elem: 60\nelem: 60, last_elem: 59\nelem: 55, last_elem: 54\nelem: 56, last_elem: 54\nelem: 57, last_elem: 54\nelem: 57, last_elem: 56\nelem: 56, last_elem: 55\nelem: 54, last_elem: 53\nelem: 55, last_elem: 53\nelem: 56, last_elem: 53\nelem: 57, last_elem: 53\nelem: 57, last_elem: 56\nelem: 56, last_elem: 55\nelem: 55, last_elem: 54\nelem: 50, last_elem: 49\nelem: 51, last_elem: 49\nelem: 52, last_elem: 49\nelem: 52, last_elem: 51\nelem: 51, last_elem: 50\nelem: 49, last_elem: 48\nelem: 50, last_elem: 48\nelem: 51, last_elem: 48\nelem: 52, last_elem: 48\nelem: 52, last_elem: 51\nelem: 51, last_elem: 50\nelem: 50, last_elem: 49\nelem: 45, last_elem: 44\nelem: 46, last_elem: 44\nelem: 47, last_elem: 44\nelem: 47, last_elem: 46\nelem: 46, last_elem: 45\nelem: 44, last_elem: 43\nelem: 45, last_elem: 43\nelem: 46, last_elem: 43\nelem: 47, last_elem: 43\nelem: 47, last_elem: 46\nelem: 46, last_elem: 45\nelem: 45, last_elem: 44\nelem: 40, last_elem: 39\nelem: 41, last_elem: 39\nelem: 42, last_elem: 39\nelem: 42, last_elem: 41\nelem: 41, last_elem: 40\nelem: 39, last_elem: 38\nelem: 40, last_elem: 38\nelem: 41, last_elem: 38\nelem: 42, last_elem: 38\nelem: 42, last_elem: 41\nelem: 41, last_elem: 40\nelem: 40, last_elem: 39\nelem: 36, last_elem: 35\nelem: 37, last_elem: 35\nelem: 37, last_elem: 36\nelem: 31, last_elem: 30\nelem: 32, last_elem: 30\nelem: 33, last_elem: 30\nelem: 33, last_elem: 32\nelem: 32, last_elem: 31\nelem: 30, last_elem: 29\nelem: 31, last_elem: 29\nelem: 32, last_elem: 29\nelem: 33, last_elem: 29\nelem: 33, last_elem: 32\nelem: 32, last_elem: 31\nelem: 31, last_elem: 30\nelem: 26, last_elem: 25\nelem: 27, last_elem: 25\nelem: 28, last_elem: 25\nelem: 28, last_elem: 27\nelem: 27, last_elem: 26\nelem: 25, last_elem: 24\nelem: 26, last_elem: 24\nelem: 27, last_elem: 24\nelem: 28, last_elem: 24\nelem: 28, last_elem: 27\nelem: 27, last_elem: 26\nelem: 26, last_elem: 25\nelem: 20, last_elem: 19\nelem: 21, last_elem: 19\nelem: 22, last_elem: 19\nelem: 22, last_elem: 21\nelem: 21, last_elem: 20\nelem: 19, last_elem: 18\nelem: 20, last_elem: 18\nelem: 21, last_elem: 18\nelem: 22, last_elem: 18\nelem: 22, last_elem: 21\nelem: 21, last_elem: 20\nelem: 20, last_elem: 19\nelem: 14, last_elem: 13\nelem: 15, last_elem: 13\nelem: 15, last_elem: 14\nelem: 10, last_elem: 9\nelem: 11, last_elem: 9\nelem: 12, last_elem: 9\nelem: 12, last_elem: 11\nelem: 11, last_elem: 10\nelem: 9, last_elem: 8\nelem: 10, last_elem: 8\nelem: 11, last_elem: 8\nelem: 12, last_elem: 8\nelem: 12, last_elem: 11\nelem: 11, last_elem: 10\nelem: 10, last_elem: 9\nelem: 3, last_elem: 2\nelem: 4, last_elem: 2\nelem: 5, last_elem: 2\nelem: 5, last_elem: 4\nelem: 4, last_elem: 3\nelem: 2, last_elem: 1\nelem: 3, last_elem: 1\nelem: 4, last_elem: 1\nelem: 5, last_elem: 1\nelem: 5, last_elem: 4\nelem: 4, last_elem: 3\nelem: 3, last_elem: 2\nelem: 1, last_elem: 0\n"
     ]
    },
    {
     "output_type": "execute_result",
     "data": {
      "text/plain": [
       "3100448333024.0"
      ]
     },
     "metadata": {},
     "execution_count": 114
    }
   ],
   "source": [
    "nb_ways(data)/2"
   ]
  },
  {
   "cell_type": "code",
   "execution_count": null,
   "metadata": {},
   "outputs": [],
   "source": []
  }
 ]
}