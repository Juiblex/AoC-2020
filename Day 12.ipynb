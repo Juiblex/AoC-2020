{
 "metadata": {
  "language_info": {
   "codemirror_mode": {
    "name": "ipython",
    "version": 3
   },
   "file_extension": ".py",
   "mimetype": "text/x-python",
   "name": "python",
   "nbconvert_exporter": "python",
   "pygments_lexer": "ipython3",
   "version": "3.8.0-final"
  },
  "orig_nbformat": 2,
  "kernelspec": {
   "name": "python38064bit665b2bd93f9f4bf5803e41412cf7f5e1",
   "display_name": "Python 3.8.0 64-bit",
   "language": "python"
  }
 },
 "nbformat": 4,
 "nbformat_minor": 2,
 "cells": [
  {
   "cell_type": "code",
   "execution_count": 39,
   "metadata": {},
   "outputs": [],
   "source": [
    "with open('input_day12.txt', 'r') as data_file:\n",
    "    input_data = [l.rstrip() for l in data_file.readlines()]"
   ]
  },
  {
   "cell_type": "code",
   "execution_count": 13,
   "metadata": {},
   "outputs": [],
   "source": [
    "test_input = \"\"\"F10\n",
    "N3\n",
    "F7\n",
    "R90\n",
    "F11\"\"\".split('\\n')"
   ]
  },
  {
   "cell_type": "code",
   "execution_count": 52,
   "metadata": {},
   "outputs": [],
   "source": [
    "import numpy as np"
   ]
  },
  {
   "cell_type": "code",
   "execution_count": 57,
   "metadata": {},
   "outputs": [],
   "source": []
  },
  {
   "cell_type": "code",
   "execution_count": 60,
   "metadata": {},
   "outputs": [
    {
     "output_type": "execute_result",
     "data": {
      "text/plain": [
       "array([ 0, -1])"
      ]
     },
     "metadata": {},
     "execution_count": 60
    }
   ],
   "source": [
    "np.matmul(rot_left, np.array([-1, 0]))"
   ]
  },
  {
   "cell_type": "code",
   "execution_count": 62,
   "metadata": {},
   "outputs": [],
   "source": [
    "def rotate_left(deltas):\n",
    "    rot_left = np.array([[0,  -1],\n",
    "                         [1, 0]])\n",
    "    return np.matmul(rot_left, deltas)"
   ]
  },
  {
   "cell_type": "code",
   "execution_count": 63,
   "metadata": {},
   "outputs": [],
   "source": [
    "def rotate_right(deltas):\n",
    "    rot_right = np.array([[0,  1],\n",
    "                         [-1, 0]])\n",
    "    return np.matmul(rot_right, deltas)"
   ]
  },
  {
   "cell_type": "code",
   "execution_count": 31,
   "metadata": {},
   "outputs": [],
   "source": [
    "direction = {(1, 0): 'east', (-1, 0): 'west', (0, 1): 'north', (0, -1): 'south'}"
   ]
  },
  {
   "cell_type": "code",
   "execution_count": 75,
   "metadata": {},
   "outputs": [],
   "source": [
    "def run(input):\n",
    "    pos = np.array([0, 0])\n",
    "    deltas = np.array([1, 0]) # Start facing east\n",
    "    #print(f'x: {pos_x}, y: {pos_y}, dir: {direction[d_x, d_y]}')\n",
    "    for line in input:\n",
    "        case = line[0]\n",
    "        val = int(line[1:])\n",
    "        if case == 'F':\n",
    "            pos += val * deltas\n",
    "        elif case == 'N':\n",
    "            pos[1] += val\n",
    "        elif case == 'S':\n",
    "            pos[1] -= val\n",
    "        elif case == 'E':\n",
    "            pos[0] += val\n",
    "        elif case == 'W':\n",
    "            pos[0] -= val\n",
    "        elif case == 'L':\n",
    "            for times in range(val//90):\n",
    "                deltas = rotate_left(deltas)\n",
    "        elif case == 'R':\n",
    "            for times in range(val//90):\n",
    "                deltas = rotate_right(deltas)\n",
    "\n",
    "        #print(f'x: {pos_x}, y: {pos_y}, dir: {direction[d_x, d_y]}')\n",
    "    print(pos)\n",
    "    return np.sum(np.abs(pos))\n",
    "    "
   ]
  },
  {
   "cell_type": "code",
   "execution_count": 76,
   "metadata": {
    "tags": []
   },
   "outputs": [
    {
     "output_type": "stream",
     "name": "stdout",
     "text": [
      "[-1066 -1162]\n"
     ]
    },
    {
     "output_type": "execute_result",
     "data": {
      "text/plain": [
       "2228"
      ]
     },
     "metadata": {},
     "execution_count": 76
    }
   ],
   "source": [
    "run(input_data)"
   ]
  },
  {
   "cell_type": "code",
   "execution_count": 71,
   "metadata": {},
   "outputs": [
    {
     "output_type": "execute_result",
     "data": {
      "text/plain": [
       "2228"
      ]
     },
     "metadata": {},
     "execution_count": 71
    }
   ],
   "source": [
    "abs(x) + abs(y)"
   ]
  },
  {
   "cell_type": "code",
   "execution_count": 88,
   "metadata": {},
   "outputs": [],
   "source": [
    "def run_2(input):\n",
    "    ship_pos = np.array([0, 0])\n",
    "    target_pos = np.array([10, 1])\n",
    "    #print(f'x: {pos_x}, y: {pos_y}, dir: {direction[d_x, d_y]}')\n",
    "    for line in input:\n",
    "        case = line[0]\n",
    "        val = int(line[1:])\n",
    "        if case == 'F':\n",
    "            delta = target_pos - ship_pos\n",
    "            ship_pos += delta * val\n",
    "            target_pos = ship_pos + delta\n",
    "        elif case == 'N':\n",
    "            target_pos[1] += val\n",
    "        elif case == 'S':\n",
    "            target_pos[1] -= val\n",
    "        elif case == 'E':\n",
    "            target_pos[0] += val\n",
    "        elif case == 'W':\n",
    "            target_pos[0] -= val\n",
    "        elif case == 'L':\n",
    "            delta = target_pos - ship_pos\n",
    "            for times in range(val//90):\n",
    "                delta = rotate_left(delta)\n",
    "            target_pos = ship_pos + delta\n",
    "        elif case == 'R':\n",
    "            delta = target_pos - ship_pos\n",
    "            for times in range(val//90):\n",
    "                delta = rotate_right(delta)\n",
    "            target_pos = ship_pos + delta\n",
    "\n",
    "        #print(f'ship: {ship_pos}, target: {target_pos}')\n",
    "    print(ship_pos)\n",
    "    return np.sum(np.abs(ship_pos))"
   ]
  },
  {
   "cell_type": "code",
   "execution_count": 90,
   "metadata": {},
   "outputs": [
    {
     "output_type": "stream",
     "name": "stdout",
     "text": [
      "[  5507 -37401]\n"
     ]
    },
    {
     "output_type": "execute_result",
     "data": {
      "text/plain": [
       "42908"
      ]
     },
     "metadata": {},
     "execution_count": 90
    }
   ],
   "source": [
    "run_2(input_data)"
   ]
  },
  {
   "cell_type": "code",
   "execution_count": null,
   "metadata": {},
   "outputs": [],
   "source": []
  }
 ]
}