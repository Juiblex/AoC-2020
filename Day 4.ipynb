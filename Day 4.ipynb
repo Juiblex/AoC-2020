{
 "metadata": {
  "language_info": {
   "codemirror_mode": {
    "name": "ipython",
    "version": 3
   },
   "file_extension": ".py",
   "mimetype": "text/x-python",
   "name": "python",
   "nbconvert_exporter": "python",
   "pygments_lexer": "ipython3",
   "version": "3.8.0-final"
  },
  "orig_nbformat": 2,
  "kernelspec": {
   "name": "python38064bit665b2bd93f9f4bf5803e41412cf7f5e1",
   "display_name": "Python 3.8.0 64-bit"
  }
 },
 "nbformat": 4,
 "nbformat_minor": 2,
 "cells": [
  {
   "cell_type": "code",
   "execution_count": 8,
   "metadata": {},
   "outputs": [],
   "source": [
    "test_str = (\n",
    "\"\"\"ecl:gry pid:860033327 eyr:2020 hcl:#fffffd\n",
    "byr:1937 iyr:2017 cid:147 hgt:183cm\n",
    "\n",
    "iyr:2013 ecl:amb cid:350 eyr:2023 pid:028048884\n",
    "hcl:#cfa07d byr:1929\n",
    "\n",
    "hcl:#ae17e1 iyr:2013\n",
    "eyr:2024\n",
    "ecl:brn pid:760753108 byr:1931\n",
    "hgt:179cm\n",
    "\n",
    "hcl:#cfa07d eyr:2025 pid:166559648\n",
    "iyr:2011 ecl:brn hgt:59in\"\"\"\n",
    ")"
   ]
  },
  {
   "cell_type": "code",
   "execution_count": 153,
   "metadata": {},
   "outputs": [],
   "source": [
    "test_inval = (\n",
    "    '''eyr:1972 cid:100\n",
    "hcl:#18171d ecl:amb hgt:170 pid:186cm iyr:2018 byr:1926\n",
    "\n",
    "iyr:2019\n",
    "hcl:#602927 eyr:1967 hgt:170cm\n",
    "ecl:grn pid:012533040 byr:1946\n",
    "\n",
    "hcl:dab227 iyr:2012\n",
    "ecl:brn hgt:182cm pid:021572410 eyr:2020 byr:1992 cid:277\n",
    "\n",
    "hgt:59cm ecl:zzz\n",
    "eyr:2038 hcl:74454a iyr:2023\n",
    "pid:3556412378 byr:2007'''\n",
    ").replace('\\n', ' ').split('  ')"
   ]
  },
  {
   "cell_type": "code",
   "execution_count": 154,
   "metadata": {},
   "outputs": [
    {
     "output_type": "execute_result",
     "data": {
      "text/plain": [
       "['eyr:1972 cid:100 hcl:#18171d ecl:amb hgt:170 pid:186cm iyr:2018 byr:1926',\n",
       " 'iyr:2019 hcl:#602927 eyr:1967 hgt:170cm ecl:grn pid:012533040 byr:1946',\n",
       " 'hcl:dab227 iyr:2012 ecl:brn hgt:182cm pid:021572410 eyr:2020 byr:1992 cid:277',\n",
       " 'hgt:59cm ecl:zzz eyr:2038 hcl:74454a iyr:2023 pid:3556412378 byr:2007']"
      ]
     },
     "metadata": {},
     "execution_count": 154
    }
   ],
   "source": [
    "test_inval"
   ]
  },
  {
   "cell_type": "code",
   "execution_count": 156,
   "metadata": {},
   "outputs": [],
   "source": [
    "test_val = (\n",
    "    '''pid:087499704 hgt:74in ecl:grn iyr:2012 eyr:2030 byr:1980\n",
    "hcl:#623a2f\n",
    "\n",
    "eyr:2029 ecl:blu cid:129 byr:1989\n",
    "iyr:2014 pid:896056539 hcl:#a97842 hgt:165cm\n",
    "\n",
    "hcl:#888785\n",
    "hgt:164cm byr:2001 iyr:2015 cid:88\n",
    "pid:545766238 ecl:hzl\n",
    "eyr:2022\n",
    "\n",
    "iyr:2010 hgt:158cm hcl:#b6652a ecl:blu byr:1944 eyr:2021 pid:093154719'''\n",
    ").replace('\\n', ' ').split('  ')"
   ]
  },
  {
   "cell_type": "code",
   "execution_count": 157,
   "metadata": {},
   "outputs": [
    {
     "output_type": "execute_result",
     "data": {
      "text/plain": [
       "['pid:087499704 hgt:74in ecl:grn iyr:2012 eyr:2030 byr:1980 hcl:#623a2f',\n",
       " 'eyr:2029 ecl:blu cid:129 byr:1989 iyr:2014 pid:896056539 hcl:#a97842 hgt:165cm',\n",
       " 'hcl:#888785 hgt:164cm byr:2001 iyr:2015 cid:88 pid:545766238 ecl:hzl eyr:2022',\n",
       " 'iyr:2010 hgt:158cm hcl:#b6652a ecl:blu byr:1944 eyr:2021 pid:093154719']"
      ]
     },
     "metadata": {},
     "execution_count": 157
    }
   ],
   "source": [
    "test_val"
   ]
  },
  {
   "cell_type": "code",
   "execution_count": 9,
   "metadata": {},
   "outputs": [],
   "source": [
    "test_2 = test_str.replace('\\n', ' ')"
   ]
  },
  {
   "cell_type": "code",
   "execution_count": 19,
   "metadata": {},
   "outputs": [],
   "source": [
    "test_2 = test_2.split('  ')"
   ]
  },
  {
   "cell_type": "code",
   "execution_count": 48,
   "metadata": {},
   "outputs": [],
   "source": [
    "req_fields = ['byr', 'iyr', 'eyr', 'hgt', 'hcl', 'ecl', 'pid']"
   ]
  },
  {
   "cell_type": "code",
   "execution_count": 68,
   "metadata": {},
   "outputs": [],
   "source": [
    "def valid_byr(passport):\n",
    "    if not 'byr' in passport:\n",
    "        return False\n",
    "    else:\n",
    "        try:\n",
    "            year = int(passport['byr'])\n",
    "            if not (1920 <= year and year <= 2002):\n",
    "                return False\n",
    "        except ValueError:\n",
    "            return False\n",
    "    return True"
   ]
  },
  {
   "cell_type": "code",
   "execution_count": 69,
   "metadata": {},
   "outputs": [],
   "source": [
    "def valid_iyr(passport):\n",
    "    if not 'iyr' in passport:\n",
    "        return False\n",
    "    else:\n",
    "        try:\n",
    "            year = int(passport['iyr'])\n",
    "            if not (2010 <= year and year <= 2020):\n",
    "                return False\n",
    "        except ValueError:\n",
    "            return False\n",
    "    return True"
   ]
  },
  {
   "cell_type": "code",
   "execution_count": 72,
   "metadata": {},
   "outputs": [],
   "source": [
    "def valid_eyr(passport):\n",
    "    if not 'eyr' in passport:\n",
    "        return False\n",
    "    else:\n",
    "        try:\n",
    "            year = int(passport['eyr'])\n",
    "            if not (2020 <= year and year <= 2030):\n",
    "                return False\n",
    "        except ValueError:\n",
    "            return False\n",
    "    return True"
   ]
  },
  {
   "cell_type": "code",
   "execution_count": 137,
   "metadata": {},
   "outputs": [],
   "source": [
    "def valid_hgt(passport):\n",
    "    if not 'hgt' in passport:\n",
    "        return False\n",
    "    else:\n",
    "        try:\n",
    "            unit = passport['hgt'][-2:]\n",
    "            value = int(passport['hgt'][:-2])\n",
    "            if unit == 'cm':\n",
    "                if not (150 <= value <= 193):\n",
    "                    return False\n",
    "            elif unit == 'in':\n",
    "                if not (59 <= value <= 76):\n",
    "                    return False\n",
    "            else:\n",
    "                return False\n",
    "        except ValueError:\n",
    "            return False\n",
    "    return True"
   ]
  },
  {
   "cell_type": "code",
   "execution_count": 110,
   "metadata": {},
   "outputs": [],
   "source": [
    "def valid_hcl(passport):\n",
    "    if not 'hcl' in passport:\n",
    "        return False\n",
    "    else:\n",
    "        try:\n",
    "            if len(passport['hcl']) != 7:\n",
    "                return False\n",
    "            if passport['hcl'][0] != '#':\n",
    "                return False\n",
    "            for i in range(1, 7):\n",
    "                if passport['hcl'][i] not in '0123456789abcdef':\n",
    "                    return False\n",
    "        except:\n",
    "            return False\n",
    "    return True"
   ]
  },
  {
   "cell_type": "code",
   "execution_count": 185,
   "metadata": {},
   "outputs": [
    {
     "output_type": "execute_result",
     "data": {
      "text/plain": [
       "False"
      ]
     },
     "metadata": {},
     "execution_count": 185
    }
   ],
   "source": [
    "valid_hcl({'hcl': 'dab227'})"
   ]
  },
  {
   "cell_type": "code",
   "execution_count": 114,
   "metadata": {},
   "outputs": [],
   "source": [
    "def valid_ecl(passport):\n",
    "    if not 'ecl' in passport:\n",
    "        return False\n",
    "    else:\n",
    "        try:\n",
    "            if passport['ecl'] not in ['amb', 'blu', 'brn', 'gry', 'grn', 'hzl', 'oth']:\n",
    "                return False\n",
    "        except:\n",
    "            return False\n",
    "    return True"
   ]
  },
  {
   "cell_type": "code",
   "execution_count": 129,
   "metadata": {},
   "outputs": [],
   "source": [
    "def valid_pid(passport):\n",
    "    if not 'pid' in passport:\n",
    "        return False\n",
    "    else:\n",
    "        try:\n",
    "            if len(passport['pid']) != 9:\n",
    "                return False\n",
    "            for c in passport['pid']:\n",
    "                if c not in '0123456789':\n",
    "                    return False\n",
    "        except:\n",
    "            return False\n",
    "    return True"
   ]
  },
  {
   "cell_type": "code",
   "execution_count": 133,
   "metadata": {},
   "outputs": [
    {
     "output_type": "execute_result",
     "data": {
      "text/plain": [
       "False"
      ]
     },
     "metadata": {},
     "execution_count": 133
    }
   ],
   "source": []
  },
  {
   "cell_type": "code",
   "execution_count": 191,
   "metadata": {},
   "outputs": [],
   "source": [
    "def nb_valid_passports(passports):\n",
    "    nb_valid = 0\n",
    "    for line in passports:\n",
    "        passport = list(filter(None, line.split(' ')))\n",
    "        fields = {}\n",
    "        \n",
    "        valid = True\n",
    "\n",
    "        for f in passport:\n",
    "            name = f.split(':')[0]\n",
    "            fields[f.split(':')[0]] = f.split(':')[1]\n",
    "        \n",
    "        if not valid_byr(fields):\n",
    "            #print(f'failed byr: {fields}')\n",
    "            valid = False\n",
    "            \n",
    "        if not valid_iyr(fields):\n",
    "            #print(f'failed iyr: {fields}')\n",
    "            valid = False\n",
    "            \n",
    "        if not valid_eyr(fields):\n",
    "            #print(f'failed eyr: {fields}')\n",
    "            valid = False\n",
    "            \n",
    "        if not valid_hgt(fields):\n",
    "            #print(f'failed hgt: {fields}')\n",
    "            valid = False\n",
    "            \n",
    "        if not valid_ecl(fields):\n",
    "            #print(f'failed ecl: {fields}')\n",
    "            valid = False\n",
    "\n",
    "        if not valid_hcl(fields):\n",
    "            #print(f'failed ecl: {fields}')\n",
    "            valid = False\n",
    "\n",
    "        if not valid_pid(fields):\n",
    "            #print(f'failed pid: {fields}')\n",
    "            valid = False\n",
    "            \n",
    "        if valid:\n",
    "            #print(f'valid: {fields}')\n",
    "            nb_valid += 1\n",
    "    return nb_valid"
   ]
  },
  {
   "cell_type": "code",
   "execution_count": 192,
   "metadata": {},
   "outputs": [
    {
     "output_type": "execute_result",
     "data": {
      "text/plain": [
       "2"
      ]
     },
     "metadata": {},
     "execution_count": 192
    }
   ],
   "source": [
    "nb_valid_passports(test_2)"
   ]
  },
  {
   "cell_type": "code",
   "execution_count": 193,
   "metadata": {},
   "outputs": [],
   "source": [
    "with open('input_day4.txt', 'r') as input_file:\n",
    "    data = ''.join(input_file.readlines())\n",
    "    data = data.replace('\\n', ' ')\n",
    "    data = data.split('  ')"
   ]
  },
  {
   "cell_type": "code",
   "execution_count": 195,
   "metadata": {},
   "outputs": [
    {
     "output_type": "execute_result",
     "data": {
      "text/plain": [
       "167"
      ]
     },
     "metadata": {},
     "execution_count": 195
    }
   ],
   "source": [
    "nb_valid_passports(data)"
   ]
  }
 ]
}