{
 "metadata": {
  "language_info": {
   "codemirror_mode": {
    "name": "ipython",
    "version": 3
   },
   "file_extension": ".py",
   "mimetype": "text/x-python",
   "name": "python",
   "nbconvert_exporter": "python",
   "pygments_lexer": "ipython3",
   "version": "3.8.0-final"
  },
  "orig_nbformat": 2,
  "kernelspec": {
   "name": "python38064bit665b2bd93f9f4bf5803e41412cf7f5e1",
   "display_name": "Python 3.8.0 64-bit"
  }
 },
 "nbformat": 4,
 "nbformat_minor": 2,
 "cells": [
  {
   "cell_type": "code",
   "execution_count": 1,
   "metadata": {},
   "outputs": [],
   "source": [
    "test_string = \"1-3 a: abcde\""
   ]
  },
  {
   "cell_type": "code",
   "execution_count": 10,
   "metadata": {},
   "outputs": [],
   "source": [
    "target_string = split_string[2]"
   ]
  },
  {
   "cell_type": "code",
   "execution_count": 11,
   "metadata": {},
   "outputs": [
    {
     "output_type": "execute_result",
     "data": {
      "text/plain": [
       "'abcde'"
      ]
     },
     "metadata": {},
     "execution_count": 11
    }
   ],
   "source": [
    "target_string"
   ]
  },
  {
   "cell_type": "code",
   "execution_count": 12,
   "metadata": {},
   "outputs": [],
   "source": [
    "num_letter = {k: 0 for k in 'abcdefghijklmnopqrstuvwxyz'}"
   ]
  },
  {
   "cell_type": "code",
   "execution_count": 14,
   "metadata": {},
   "outputs": [],
   "source": [
    "for letter in target_string:\n",
    "    num_letter[letter] += 1"
   ]
  },
  {
   "cell_type": "code",
   "execution_count": 17,
   "metadata": {},
   "outputs": [
    {
     "output_type": "execute_result",
     "data": {
      "text/plain": [
       "True"
      ]
     },
     "metadata": {},
     "execution_count": 17
    }
   ],
   "source": [
    "num_letter[letter] in range(num_range[0], num_range[1]+1)"
   ]
  },
  {
   "cell_type": "code",
   "execution_count": 33,
   "metadata": {},
   "outputs": [],
   "source": [
    "def valid(passwd_string):\n",
    "    split_string = passwd_string.split(' ')\n",
    "    num_range = [int(i) for i in split_string[0].split('-')]\n",
    "    check_letter = split_string[1][0]\n",
    "    target_string = split_string[2]\n",
    "\n",
    "    num_letter = {k: 0 for k in 'abcdefghijklmnopqrstuvwxyz'}\n",
    "    for letter in target_string:\n",
    "        num_letter[letter] += 1\n",
    "\n",
    "    return int(num_range[0] <= num_letter[check_letter] and num_letter[check_letter] <= num_range[1])"
   ]
  },
  {
   "cell_type": "code",
   "execution_count": 54,
   "metadata": {},
   "outputs": [],
   "source": [
    "def valid2(passwd_string):\n",
    "    split_string = passwd_string.split(' ')\n",
    "    positions = [int(i) for i in split_string[0].split('-')]\n",
    "    check_letter = split_string[1][0]\n",
    "    target_string = split_string[2]\n",
    "\n",
    "    ok_1 = (target_string[positions[0]-1] == check_letter)\n",
    "    ok_2 = (target_string[positions[1]-1] == check_letter)\n",
    "\n",
    "    return int(ok_1 != ok_2)"
   ]
  },
  {
   "cell_type": "code",
   "execution_count": 55,
   "metadata": {},
   "outputs": [
    {
     "output_type": "execute_result",
     "data": {
      "text/plain": [
       "1"
      ]
     },
     "metadata": {},
     "execution_count": 55
    }
   ],
   "source": [
    "valid2('1-3 a: abcde')"
   ]
  },
  {
   "cell_type": "code",
   "execution_count": 56,
   "metadata": {},
   "outputs": [
    {
     "output_type": "execute_result",
     "data": {
      "text/plain": [
       "0"
      ]
     },
     "metadata": {},
     "execution_count": 56
    }
   ],
   "source": [
    "valid2('1-3 b: cdefg')"
   ]
  },
  {
   "cell_type": "code",
   "execution_count": 57,
   "metadata": {},
   "outputs": [
    {
     "output_type": "execute_result",
     "data": {
      "text/plain": [
       "0"
      ]
     },
     "metadata": {},
     "execution_count": 57
    }
   ],
   "source": [
    "valid2('2-9 c: ccccccccc')"
   ]
  },
  {
   "cell_type": "code",
   "execution_count": 40,
   "metadata": {},
   "outputs": [],
   "source": [
    "with open('input_day2.txt', 'r') as input_file:\n",
    "    lines = input_file.readlines()"
   ]
  },
  {
   "cell_type": "code",
   "execution_count": 58,
   "metadata": {},
   "outputs": [
    {
     "output_type": "execute_result",
     "data": {
      "text/plain": [
       "694"
      ]
     },
     "metadata": {},
     "execution_count": 58
    }
   ],
   "source": [
    "sum([valid2(l.rstrip()) for l in lines])"
   ]
  }
 ]
}