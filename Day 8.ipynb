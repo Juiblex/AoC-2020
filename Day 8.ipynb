{
 "metadata": {
  "language_info": {
   "codemirror_mode": {
    "name": "ipython",
    "version": 3
   },
   "file_extension": ".py",
   "mimetype": "text/x-python",
   "name": "python",
   "nbconvert_exporter": "python",
   "pygments_lexer": "ipython3",
   "version": "3.8.0-final"
  },
  "orig_nbformat": 2,
  "kernelspec": {
   "name": "python38064bit665b2bd93f9f4bf5803e41412cf7f5e1",
   "display_name": "Python 3.8.0 64-bit"
  }
 },
 "nbformat": 4,
 "nbformat_minor": 2,
 "cells": [
  {
   "cell_type": "code",
   "execution_count": 5,
   "metadata": {},
   "outputs": [],
   "source": [
    "import numpy as np"
   ]
  },
  {
   "cell_type": "code",
   "execution_count": 39,
   "metadata": {},
   "outputs": [],
   "source": [
    "test_prog = '''nop +0\n",
    "acc +1\n",
    "jmp +4\n",
    "acc +3\n",
    "jmp -3\n",
    "acc -99\n",
    "acc +1\n",
    "jmp -4\n",
    "acc +6'''.split('\\n')"
   ]
  },
  {
   "cell_type": "code",
   "execution_count": 31,
   "metadata": {},
   "outputs": [],
   "source": [
    "def run_prog(prog):\n",
    "    seen = [False] * len(prog)\n",
    "    pc = 0\n",
    "    acc = 0\n",
    "    while pc < len(prog) and seen[pc] == False:\n",
    "        seen[pc] = True\n",
    "        instr = prog[pc].split(' ')[0]\n",
    "        val = int(prog[pc].split(' ')[1])\n",
    "        #print(f'instr {pc}, acc {acc}')\n",
    "        if instr == 'acc':\n",
    "            acc += val\n",
    "            pc += 1\n",
    "        elif instr == 'jmp':\n",
    "            pc += val\n",
    "        elif instr == 'nop':\n",
    "            pc += 1\n",
    "    if pc == len(prog):\n",
    "        return acc, True\n",
    "    return acc, False"
   ]
  },
  {
   "cell_type": "code",
   "execution_count": 32,
   "metadata": {},
   "outputs": [
    {
     "output_type": "execute_result",
     "data": {
      "text/plain": [
       "(8, True)"
      ]
     },
     "metadata": {},
     "execution_count": 32
    }
   ],
   "source": [
    "run_prog(test_prog)"
   ]
  },
  {
   "cell_type": "code",
   "execution_count": 17,
   "metadata": {},
   "outputs": [],
   "source": [
    "with open('input_day8.txt', 'r') as data_file:\n",
    "    prog = [l.rstrip() for l in data_file.readlines()]"
   ]
  },
  {
   "cell_type": "code",
   "execution_count": 33,
   "metadata": {},
   "outputs": [
    {
     "output_type": "execute_result",
     "data": {
      "text/plain": [
       "' +4'"
      ]
     },
     "metadata": {},
     "execution_count": 33
    }
   ],
   "source": [
    "'nop +4'[3:]"
   ]
  },
  {
   "cell_type": "code",
   "execution_count": 47,
   "metadata": {},
   "outputs": [],
   "source": [
    "def tweak_prog(prog):\n",
    "    for i_instr, instr in enumerate(prog):\n",
    "        if instr.startswith('nop'):\n",
    "            new_prog = prog.copy()\n",
    "            new_prog[i_instr] = 'jmp' + instr[3:]\n",
    "            val, finished = run_prog(new_prog)\n",
    "            if finished:\n",
    "                print(val)\n",
    "        if instr.startswith('jmp'):\n",
    "            new_prog = prog.copy()\n",
    "            new_prog[i_instr] = 'nop' + instr[3:]\n",
    "            val, finished = run_prog(new_prog)\n",
    "            if finished:\n",
    "                print(val)"
   ]
  },
  {
   "cell_type": "code",
   "execution_count": 49,
   "metadata": {},
   "outputs": [
    {
     "output_type": "stream",
     "name": "stdout",
     "text": [
      "515\n"
     ]
    }
   ],
   "source": [
    "tweak_prog(prog)"
   ]
  },
  {
   "cell_type": "code",
   "execution_count": null,
   "metadata": {},
   "outputs": [],
   "source": []
  }
 ]
}