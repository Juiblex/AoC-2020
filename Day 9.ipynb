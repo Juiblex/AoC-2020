{
 "metadata": {
  "language_info": {
   "codemirror_mode": {
    "name": "ipython",
    "version": 3
   },
   "file_extension": ".py",
   "mimetype": "text/x-python",
   "name": "python",
   "nbconvert_exporter": "python",
   "pygments_lexer": "ipython3",
   "version": "3.8.0-final"
  },
  "orig_nbformat": 2,
  "kernelspec": {
   "name": "python38064bit665b2bd93f9f4bf5803e41412cf7f5e1",
   "display_name": "Python 3.8.0 64-bit"
  }
 },
 "nbformat": 4,
 "nbformat_minor": 2,
 "cells": [
  {
   "cell_type": "code",
   "execution_count": 1,
   "metadata": {},
   "outputs": [],
   "source": [
    "test_input = '''35\n",
    "20\n",
    "15\n",
    "25\n",
    "47\n",
    "40\n",
    "62\n",
    "55\n",
    "65\n",
    "95\n",
    "102\n",
    "117\n",
    "150\n",
    "182\n",
    "127\n",
    "219\n",
    "299\n",
    "277\n",
    "309\n",
    "576'''.split('\\n')"
   ]
  },
  {
   "cell_type": "code",
   "execution_count": 3,
   "metadata": {},
   "outputs": [],
   "source": [
    "test_input = [int(i) for i in test_input]"
   ]
  },
  {
   "cell_type": "code",
   "execution_count": 12,
   "metadata": {},
   "outputs": [],
   "source": [
    "def find_not_ok(input, delta):\n",
    "    for test_i in range(delta, len(input)):\n",
    "        found = False\n",
    "        for i_1 in range(test_i - delta, test_i):\n",
    "            for i_2 in range(test_i - delta, test_i):\n",
    "                if (input[i_1] + input[i_2] == input[test_i] and\n",
    "                    input[i_1] != input[i_2]):\n",
    "                    #print(f'{input[test_i]} = {input[i_1]} + {input[i_2]}')\n",
    "                    found = True\n",
    "        if not found:\n",
    "            print(input[test_i])"
   ]
  },
  {
   "cell_type": "code",
   "execution_count": 13,
   "metadata": {},
   "outputs": [
    {
     "output_type": "stream",
     "name": "stdout",
     "text": [
      "127\n"
     ]
    }
   ],
   "source": [
    "find_not_ok(test_input, 5)"
   ]
  },
  {
   "cell_type": "code",
   "execution_count": 14,
   "metadata": {},
   "outputs": [],
   "source": [
    "with open('input_day9.txt', 'r') as data_file:\n",
    "    real_input = [int(l) for l in data_file.readlines()]"
   ]
  },
  {
   "cell_type": "code",
   "execution_count": 16,
   "metadata": {},
   "outputs": [
    {
     "output_type": "stream",
     "name": "stdout",
     "text": [
      "2089807806\n"
     ]
    }
   ],
   "source": [
    "find_not_ok(real_input, 25)"
   ]
  },
  {
   "cell_type": "code",
   "execution_count": 28,
   "metadata": {},
   "outputs": [],
   "source": [
    "def range(input, obj):\n",
    "    debut = 0\n",
    "    fin = 0\n",
    "    total = 0\n",
    "    while fin < len(input):\n",
    "        if total == obj:\n",
    "            print(f'debut: {input[debut]}, fin: {input[fin-1]}')\n",
    "            return min(input[debut:fin]) + max(input[debut:fin])\n",
    "        elif total < obj:\n",
    "            total += input[fin]\n",
    "            fin += 1\n",
    "        else:\n",
    "            total -= input[debut]\n",
    "            debut += 1"
   ]
  },
  {
   "cell_type": "code",
   "execution_count": 29,
   "metadata": {},
   "outputs": [
    {
     "output_type": "stream",
     "name": "stdout",
     "text": [
      "debut: 15, fin: 40\n"
     ]
    },
    {
     "output_type": "execute_result",
     "data": {
      "text/plain": [
       "62"
      ]
     },
     "metadata": {},
     "execution_count": 29
    }
   ],
   "source": [
    "range(test_input, 127)"
   ]
  },
  {
   "cell_type": "code",
   "execution_count": 30,
   "metadata": {},
   "outputs": [
    {
     "output_type": "stream",
     "name": "stdout",
     "text": [
      "debut: 106599441, fin: 144628806\n"
     ]
    },
    {
     "output_type": "execute_result",
     "data": {
      "text/plain": [
       "245848639"
      ]
     },
     "metadata": {},
     "execution_count": 30
    }
   ],
   "source": [
    "range(real_input, 2089807806)"
   ]
  },
  {
   "cell_type": "code",
   "execution_count": null,
   "metadata": {},
   "outputs": [],
   "source": []
  }
 ]
}