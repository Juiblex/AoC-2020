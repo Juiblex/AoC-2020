{
 "metadata": {
  "language_info": {
   "codemirror_mode": {
    "name": "ipython",
    "version": 3
   },
   "file_extension": ".py",
   "mimetype": "text/x-python",
   "name": "python",
   "nbconvert_exporter": "python",
   "pygments_lexer": "ipython3",
   "version": "3.8.0-final"
  },
  "orig_nbformat": 2,
  "kernelspec": {
   "name": "python38064bit665b2bd93f9f4bf5803e41412cf7f5e1",
   "display_name": "Python 3.8.0 64-bit",
   "language": "python"
  }
 },
 "nbformat": 4,
 "nbformat_minor": 2,
 "cells": [
  {
   "cell_type": "code",
   "execution_count": 52,
   "metadata": {},
   "outputs": [],
   "source": [
    "def is_occupied(grid, x, y, z, w):\n",
    "    if (x, y, z, w) not in grid:\n",
    "        return 0\n",
    "    return int(grid[(x, y, z, w)] == '#')"
   ]
  },
  {
   "cell_type": "code",
   "execution_count": 53,
   "metadata": {},
   "outputs": [],
   "source": [
    "deltas = []\n",
    "for i in [-1, 0, 1]:\n",
    "    for j in [-1, 0, 1]:\n",
    "        for k in [-1, 0, 1]:\n",
    "            for w in [-1, 0, 1]:\n",
    "                if i == 0 and j == 0 and k == 0 and w == 0:\n",
    "                    continue\n",
    "                deltas.append((i, j, k, w))"
   ]
  },
  {
   "cell_type": "code",
   "execution_count": 54,
   "metadata": {},
   "outputs": [],
   "source": [
    "test_input = '''.#.\n",
    "..#\n",
    "###'''.split('\\n')"
   ]
  },
  {
   "cell_type": "code",
   "execution_count": 55,
   "metadata": {},
   "outputs": [],
   "source": [
    "real_input = '''.##...#.\n",
    ".#.###..\n",
    "..##.#.#\n",
    "##...#.#\n",
    "#..#...#\n",
    "#..###..\n",
    ".##.####\n",
    "..#####.'''.split('\\n')"
   ]
  },
  {
   "cell_type": "code",
   "execution_count": 56,
   "metadata": {},
   "outputs": [
    {
     "output_type": "execute_result",
     "data": {
      "text/plain": [
       "['.#.', '..#', '###']"
      ]
     },
     "metadata": {},
     "execution_count": 56
    }
   ],
   "source": [
    "test_input"
   ]
  },
  {
   "cell_type": "code",
   "execution_count": 57,
   "metadata": {},
   "outputs": [],
   "source": [
    "def init_grid(inp):\n",
    "    grid = {}\n",
    "    for i in range(len(inp)):\n",
    "        for j in range(len(inp[i])):\n",
    "            grid[(i, j, 0, 0)] = inp[i][j]\n",
    "    return grid"
   ]
  },
  {
   "cell_type": "code",
   "execution_count": 64,
   "metadata": {},
   "outputs": [],
   "source": [
    "def step(grid):\n",
    "    new_grid = {}\n",
    "    xs = [coord[0] for coord in grid]\n",
    "    ys = [coord[1] for coord in grid]\n",
    "    zs = [coord[2] for coord in grid]\n",
    "    ws = [coord[3] for coord in grid]\n",
    "\n",
    "    for x in range(min(xs) - 1, max(xs) + 2):\n",
    "        for y in range(min(ys) - 1, max(ys) + 2):\n",
    "            for z in range(min(zs) - 1, max(zs) + 2):\n",
    "                for w in range(min(ws) - 1, max(ws) + 2):\n",
    "                    nb_voisins = 0\n",
    "                    for dx, dy, dz, dw in deltas:\n",
    "                        nb_voisins += is_occupied(grid, x+dx, y+dy, z+dz, w+dw)\n",
    "                    if ((x, y, z, w) not in grid) or grid[(x, y, z, w)] == '.':\n",
    "                        if nb_voisins == 3:\n",
    "                            new_grid[(x, y, z, w)] = '#'\n",
    "                        else:\n",
    "                            new_grid[(x, y, z, w)] = '.'\n",
    "                    else: # grid[(x, y, z)] == '#'\n",
    "                        if nb_voisins == 2 or nb_voisins == 3:\n",
    "                            new_grid[(x, y, z, w)] = '#'\n",
    "                        else:\n",
    "                            new_grid[(x, y, z, w)] = '.'\n",
    "    \n",
    "    return new_grid\n"
   ]
  },
  {
   "cell_type": "code",
   "execution_count": 36,
   "metadata": {},
   "outputs": [],
   "source": [
    "def print_grid(grid):\n",
    "    xs = [coord[0] for coord in grid]\n",
    "    ys = [coord[1] for coord in grid]\n",
    "    zs = [coord[2] for coord in grid]\n",
    "\n",
    "    for z in range(min(zs), max(zs)+1):\n",
    "        print(f'z = {z}')\n",
    "        for x in range(min(xs), max(xs)+1):\n",
    "            for y in range(min(ys), max(ys)+1):\n",
    "                print(grid[(x, y, z)], end='')\n",
    "            print()\n",
    "        print()"
   ]
  },
  {
   "cell_type": "code",
   "execution_count": 59,
   "metadata": {},
   "outputs": [],
   "source": [
    "def total_grid(grid):\n",
    "    total = 0\n",
    "    for pos in grid:\n",
    "        total += (grid[pos] == '#')\n",
    "    return total"
   ]
  },
  {
   "cell_type": "code",
   "execution_count": 60,
   "metadata": {},
   "outputs": [],
   "source": [
    "def run_steps(inp, nb_steps):\n",
    "    res_grid = init_grid(inp)\n",
    "    for i in range(nb_steps):\n",
    "        res_grid = step(res_grid)\n",
    "    return res_grid"
   ]
  },
  {
   "cell_type": "code",
   "execution_count": 66,
   "metadata": {},
   "outputs": [
    {
     "output_type": "execute_result",
     "data": {
      "text/plain": [
       "2276"
      ]
     },
     "metadata": {},
     "execution_count": 66
    }
   ],
   "source": [
    "total_grid(run_steps(real_input, 6))"
   ]
  },
  {
   "cell_type": "code",
   "execution_count": null,
   "metadata": {},
   "outputs": [],
   "source": []
  }
 ]
}