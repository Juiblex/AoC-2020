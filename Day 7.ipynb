{
 "metadata": {
  "language_info": {
   "codemirror_mode": {
    "name": "ipython",
    "version": 3
   },
   "file_extension": ".py",
   "mimetype": "text/x-python",
   "name": "python",
   "nbconvert_exporter": "python",
   "pygments_lexer": "ipython3",
   "version": "3.8.0-final"
  },
  "orig_nbformat": 2,
  "kernelspec": {
   "name": "python38064bit665b2bd93f9f4bf5803e41412cf7f5e1",
   "display_name": "Python 3.8.0 64-bit"
  }
 },
 "nbformat": 4,
 "nbformat_minor": 2,
 "cells": [
  {
   "cell_type": "code",
   "execution_count": 2,
   "metadata": {},
   "outputs": [],
   "source": [
    "test_str = 'light red bags contain 1 bright white bag, 2 muted yellow bags.'"
   ]
  },
  {
   "cell_type": "code",
   "execution_count": 51,
   "metadata": {},
   "outputs": [],
   "source": [
    "test_rules = '''light red bags contain 1 bright white bag, 2 muted yellow bags.\n",
    "dark orange bags contain 3 bright white bags, 4 muted yellow bags.\n",
    "bright white bags contain 1 shiny gold bag.\n",
    "muted yellow bags contain 2 shiny gold bags, 9 faded blue bags.\n",
    "shiny gold bags contain 1 dark olive bag, 2 vibrant plum bags.\n",
    "dark olive bags contain 3 faded blue bags, 4 dotted black bags.\n",
    "vibrant plum bags contain 5 faded blue bags, 6 dotted black bags.\n",
    "faded blue bags contain no other bags.\n",
    "dotted black bags contain no other bags.'''.split('\\n')"
   ]
  },
  {
   "cell_type": "code",
   "execution_count": 109,
   "metadata": {},
   "outputs": [],
   "source": [
    "rules_2 = '''shiny gold bags contain 2 dark red bags.\n",
    "dark red bags contain 2 dark orange bags.\n",
    "dark orange bags contain 2 dark yellow bags.\n",
    "dark yellow bags contain 2 dark green bags.\n",
    "dark green bags contain 2 dark blue bags.\n",
    "dark blue bags contain 2 dark violet bags.\n",
    "dark violet bags contain no other bags.'''.split('\\n')"
   ]
  },
  {
   "cell_type": "code",
   "execution_count": 52,
   "metadata": {},
   "outputs": [
    {
     "output_type": "execute_result",
     "data": {
      "text/plain": [
       "['light red bags contain 1 bright white bag, 2 muted yellow bags.',\n",
       " 'dark orange bags contain 3 bright white bags, 4 muted yellow bags.',\n",
       " 'bright white bags contain 1 shiny gold bag.',\n",
       " 'muted yellow bags contain 2 shiny gold bags, 9 faded blue bags.',\n",
       " 'shiny gold bags contain 1 dark olive bag, 2 vibrant plum bags.',\n",
       " 'dark olive bags contain 3 faded blue bags, 4 dotted black bags.',\n",
       " 'vibrant plum bags contain 5 faded blue bags, 6 dotted black bags.',\n",
       " 'faded blue bags contain no other bags.',\n",
       " 'dotted black bags contain no other bags.']"
      ]
     },
     "metadata": {},
     "execution_count": 52
    }
   ],
   "source": [
    "test_rules"
   ]
  },
  {
   "cell_type": "code",
   "execution_count": 45,
   "metadata": {},
   "outputs": [],
   "source": [
    "def parse_str(phrase):\n",
    "    split_str = phrase.split('contain')\n",
    "    node_color = split_str[0][:-6]\n",
    "\n",
    "    children_str = split_str[1]\n",
    "    children = []\n",
    "    if children_str != ' no other bags.':\n",
    "        children_strs = [s.rstrip().lstrip() for s in children_str.split(',')]\n",
    "        for s in children_strs:\n",
    "            s = ' '.join(s.split(' ')[:-1])\n",
    "            child_color = int(s.split(' ')[0])\n",
    "            child_name = ' '.join(s.split(' ')[1:])\n",
    "            children.append((child_name, child_color))\n",
    "    else:\n",
    "        pass\n",
    "\n",
    "    return node_color, children"
   ]
  },
  {
   "cell_type": "code",
   "execution_count": 48,
   "metadata": {},
   "outputs": [],
   "source": [
    "def build_graph(phrases):\n",
    "    graph = {}\n",
    "    for phrase in phrases:\n",
    "        node, children = parse_str(phrase)\n",
    "        graph[node] = children\n",
    "    return graph"
   ]
  },
  {
   "cell_type": "code",
   "execution_count": 80,
   "metadata": {},
   "outputs": [],
   "source": [
    "def reverse_graph(graph):\n",
    "    rev_graph = {}\n",
    "    for node, children in graph.items():\n",
    "        if node not in rev_graph:\n",
    "            rev_graph[node] = []\n",
    "        for name, number in children:\n",
    "            if name not in rev_graph:\n",
    "                rev_graph[name] = []\n",
    "            rev_graph[name].append((node, number))\n",
    "    return rev_graph"
   ]
  },
  {
   "cell_type": "code",
   "execution_count": 70,
   "metadata": {},
   "outputs": [],
   "source": [
    "test_graph = build_graph(test_rules)"
   ]
  },
  {
   "cell_type": "code",
   "execution_count": 71,
   "metadata": {},
   "outputs": [
    {
     "output_type": "execute_result",
     "data": {
      "text/plain": [
       "{'light red': [('bright white', 1), ('muted yellow', 2)],\n",
       " 'dark orange': [('bright white', 3), ('muted yellow', 4)],\n",
       " 'bright white': [('shiny gold', 1)],\n",
       " 'muted yellow': [('shiny gold', 2), ('faded blue', 9)],\n",
       " 'shiny gold': [('dark olive', 1), ('vibrant plum', 2)],\n",
       " 'dark olive': [('faded blue', 3), ('dotted black', 4)],\n",
       " 'vibrant plum': [('faded blue', 5), ('dotted black', 6)],\n",
       " 'faded blue': [],\n",
       " 'dotted black': []}"
      ]
     },
     "metadata": {},
     "execution_count": 71
    }
   ],
   "source": [
    "test_graph"
   ]
  },
  {
   "cell_type": "code",
   "execution_count": 98,
   "metadata": {},
   "outputs": [],
   "source": [
    "def count_parents(graph, node):\n",
    "    seen = {}\n",
    "\n",
    "    def visit(node, indent):\n",
    "        if node in seen:\n",
    "            return 0\n",
    "        res = 1\n",
    "        seen[node] = True\n",
    "        #print('  ' * indent + node)\n",
    "        for child_name, child_number in graph[node]:\n",
    "            res += visit(child_name, indent+1)\n",
    "        return res\n",
    "\n",
    "    return visit(node, 0) - 1 # don't count the starting node itself\n"
   ]
  },
  {
   "cell_type": "code",
   "execution_count": 73,
   "metadata": {},
   "outputs": [
    {
     "output_type": "stream",
     "name": "stdout",
     "text": [
      "light red\n  bright white\n    shiny gold\n      dark olive\n        faded blue\n        dotted black\n      vibrant plum\n  muted yellow\ndark orange\n"
     ]
    }
   ],
   "source": [
    "for node in test_graph:\n",
    "    visit(test_graph, node, 0)"
   ]
  },
  {
   "cell_type": "code",
   "execution_count": 81,
   "metadata": {},
   "outputs": [],
   "source": [
    "rev_test_graph = reverse_graph(test_graph)"
   ]
  },
  {
   "cell_type": "code",
   "execution_count": 114,
   "metadata": {},
   "outputs": [],
   "source": [
    "graph_2 = build_graph(rules_2)"
   ]
  },
  {
   "cell_type": "code",
   "execution_count": 115,
   "metadata": {},
   "outputs": [
    {
     "output_type": "execute_result",
     "data": {
      "text/plain": [
       "{'shiny gold': [('dark red', 2)],\n",
       " 'dark red': [('dark orange', 2)],\n",
       " 'dark orange': [('dark yellow', 2)],\n",
       " 'dark yellow': [('dark green', 2)],\n",
       " 'dark green': [('dark blue', 2)],\n",
       " 'dark blue': [('dark violet', 2)],\n",
       " 'dark violet': []}"
      ]
     },
     "metadata": {},
     "execution_count": 115
    }
   ],
   "source": [
    "graph_2"
   ]
  },
  {
   "cell_type": "code",
   "execution_count": 157,
   "metadata": {},
   "outputs": [],
   "source": [
    "def count_children(graph, node):\n",
    "    seen = {}\n",
    "\n",
    "    def visit(name, number, indent):\n",
    "        res = 1 # count the bag itself\n",
    "        print('  ' * indent + f'{number} {name}')\n",
    "        for child_name, child_number in graph[name]:\n",
    "            res += child_number * visit(child_name, child_number, indent+1)\n",
    "        print('  ' * indent + f'{number} {name} --> {res} * {number} = {res*number}')\n",
    "        return res\n",
    "\n",
    "    return visit(node, 1, 0) - 1 # don't count the OG bag\n"
   ]
  },
  {
   "cell_type": "code",
   "execution_count": 161,
   "metadata": {},
   "outputs": [
    {
     "output_type": "stream",
     "name": "stdout",
     "text": [
      "1 shiny gold\n  5 clear brown\n  5 clear brown --> 1 * 5 = 5\n  5 plaid fuchsia\n    1 striped blue\n      3 dark white\n        5 faded white\n          2 clear brown\n          2 clear brown --> 1 * 2 = 2\n          1 mirrored green\n          1 mirrored green --> 1 * 1 = 1\n          3 plaid bronze\n            2 dim lime\n            2 dim lime --> 1 * 2 = 2\n            2 wavy coral\n            2 wavy coral --> 1 * 2 = 2\n            1 vibrant lime\n            1 vibrant lime --> 1 * 1 = 1\n            1 dotted beige\n            1 dotted beige --> 1 * 1 = 1\n          3 plaid bronze --> 7 * 3 = 21\n        5 faded white --> 25 * 5 = 125\n        5 striped fuchsia\n          5 dotted beige\n          5 dotted beige --> 1 * 5 = 5\n        5 striped fuchsia --> 6 * 5 = 30\n        2 vibrant lime\n        2 vibrant lime --> 1 * 2 = 2\n        5 striped tan\n        5 striped tan --> 1 * 5 = 5\n      3 dark white --> 163 * 3 = 489\n      1 clear beige\n        4 dim olive\n          3 faded cyan\n            1 dark teal\n            1 dark teal --> 1 * 1 = 1\n          3 faded cyan --> 2 * 3 = 6\n        4 dim olive --> 7 * 4 = 28\n        3 plaid bronze\n          2 dim lime\n          2 dim lime --> 1 * 2 = 2\n          2 wavy coral\n          2 wavy coral --> 1 * 2 = 2\n          1 vibrant lime\n          1 vibrant lime --> 1 * 1 = 1\n          1 dotted beige\n          1 dotted beige --> 1 * 1 = 1\n        3 plaid bronze --> 7 * 3 = 21\n        3 clear brown\n        3 clear brown --> 1 * 3 = 3\n        5 vibrant lime\n        5 vibrant lime --> 1 * 5 = 5\n      1 clear beige --> 58 * 1 = 58\n      3 dim olive\n        3 faded cyan\n          1 dark teal\n          1 dark teal --> 1 * 1 = 1\n        3 faded cyan --> 2 * 3 = 6\n      3 dim olive --> 7 * 3 = 21\n    1 striped blue --> 569 * 1 = 569\n  5 plaid fuchsia --> 570 * 5 = 2850\n  4 bright teal\n    4 clear beige\n      4 dim olive\n        3 faded cyan\n          1 dark teal\n          1 dark teal --> 1 * 1 = 1\n        3 faded cyan --> 2 * 3 = 6\n      4 dim olive --> 7 * 4 = 28\n      3 plaid bronze\n        2 dim lime\n        2 dim lime --> 1 * 2 = 2\n        2 wavy coral\n        2 wavy coral --> 1 * 2 = 2\n        1 vibrant lime\n        1 vibrant lime --> 1 * 1 = 1\n        1 dotted beige\n        1 dotted beige --> 1 * 1 = 1\n      3 plaid bronze --> 7 * 3 = 21\n      3 clear brown\n      3 clear brown --> 1 * 3 = 3\n      5 vibrant lime\n      5 vibrant lime --> 1 * 5 = 5\n    4 clear beige --> 58 * 4 = 232\n  4 bright teal --> 233 * 4 = 932\n  1 striped white\n    1 wavy coral\n    1 wavy coral --> 1 * 1 = 1\n    1 faded gray\n      4 faded cyan\n        1 dark teal\n        1 dark teal --> 1 * 1 = 1\n      4 faded cyan --> 2 * 4 = 8\n    1 faded gray --> 9 * 1 = 9\n    3 vibrant lime\n    3 vibrant lime --> 1 * 3 = 3\n    2 mirrored fuchsia\n      1 clear brown\n      1 clear brown --> 1 * 1 = 1\n    2 mirrored fuchsia --> 2 * 2 = 4\n  1 striped white --> 18 * 1 = 18\n1 shiny gold --> 3806 * 1 = 3806\n"
     ]
    },
    {
     "output_type": "execute_result",
     "data": {
      "text/plain": [
       "3805"
      ]
     },
     "metadata": {},
     "execution_count": 161
    }
   ],
   "source": [
    "count_children(input_graph, 'shiny gold')"
   ]
  },
  {
   "cell_type": "code",
   "execution_count": null,
   "metadata": {},
   "outputs": [],
   "source": []
  }
 ]
}