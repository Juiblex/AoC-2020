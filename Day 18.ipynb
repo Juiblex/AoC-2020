{
 "metadata": {
  "language_info": {
   "codemirror_mode": {
    "name": "ipython",
    "version": 3
   },
   "file_extension": ".py",
   "mimetype": "text/x-python",
   "name": "python",
   "nbconvert_exporter": "python",
   "pygments_lexer": "ipython3",
   "version": "3.8.0-final"
  },
  "orig_nbformat": 2,
  "kernelspec": {
   "name": "python38064bit665b2bd93f9f4bf5803e41412cf7f5e1",
   "display_name": "Python 3.8.0 64-bit",
   "language": "python"
  }
 },
 "nbformat": 4,
 "nbformat_minor": 2,
 "cells": [
  {
   "cell_type": "code",
   "execution_count": 25,
   "metadata": {},
   "outputs": [],
   "source": [
    "import parglare\n",
    "import day_18"
   ]
  },
  {
   "cell_type": "code",
   "execution_count": 26,
   "metadata": {},
   "outputs": [],
   "source": [
    "grammar = parglare.Grammar.from_file('Day 18.pg')"
   ]
  },
  {
   "source": [
    "parser = parglare.Parser(grammar, actions=day_18.action.all)"
   ],
   "cell_type": "code",
   "metadata": {},
   "execution_count": 27,
   "outputs": []
  },
  {
   "cell_type": "code",
   "execution_count": 30,
   "metadata": {},
   "outputs": [
    {
     "output_type": "execute_result",
     "data": {
      "text/plain": [
       "669060"
      ]
     },
     "metadata": {},
     "execution_count": 30
    }
   ],
   "source": [
    "parser.parse('5 * 9 * (7 * 3 * 3 + 9 * 3 + (8 + 6 * 4))')"
   ]
  },
  {
   "cell_type": "code",
   "execution_count": 22,
   "metadata": {},
   "outputs": [],
   "source": [
    "with open('input_day18.txt', 'r') as data_file:\n",
    "    lines = [l.rstrip() for l in data_file.readlines()]"
   ]
  },
  {
   "cell_type": "code",
   "execution_count": 31,
   "metadata": {},
   "outputs": [
    {
     "output_type": "execute_result",
     "data": {
      "text/plain": [
       "109418509151782"
      ]
     },
     "metadata": {},
     "execution_count": 31
    }
   ],
   "source": [
    "sum([parser.parse(l) for l in lines])"
   ]
  },
  {
   "cell_type": "code",
   "execution_count": null,
   "metadata": {},
   "outputs": [],
   "source": []
  }
 ]
}